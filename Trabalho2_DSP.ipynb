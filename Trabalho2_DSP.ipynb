{
  "nbformat": 4,
  "nbformat_minor": 0,
  "metadata": {
    "colab": {
      "name": "Trabalho2_DSP.ipynb",
      "provenance": [],
      "authorship_tag": "ABX9TyONGdsyt0gUOFP5zbmc4jfo",
      "include_colab_link": true
    },
    "kernelspec": {
      "name": "python3",
      "display_name": "Python 3"
    },
    "language_info": {
      "name": "python"
    }
  },
  "cells": [
    {
      "cell_type": "markdown",
      "metadata": {
        "id": "view-in-github",
        "colab_type": "text"
      },
      "source": [
        "<a href=\"https://colab.research.google.com/github/nicolegold/DSP_UNISINOS/blob/main/Trabalho2_DSP.ipynb\" target=\"_parent\"><img src=\"https://colab.research.google.com/assets/colab-badge.svg\" alt=\"Open In Colab\"/></a>"
      ]
    },
    {
      "cell_type": "markdown",
      "metadata": {
        "id": "TJJvU9cunLWi"
      },
      "source": [
        "Projeto GA DSP - Filtro Passa Baixas de Segunda Ordem Passivo"
      ]
    },
    {
      "cell_type": "code",
      "metadata": {
        "id": "leZ_3P_nGlOM"
      },
      "source": [
        "import matplotlib.pyplot as plt\n",
        "import numpy as np\n",
        "\n",
        "Fs = 10000;  # taxa de amostragem\n",
        "K = 1.0/Fs; # periodo de amostragem\n",
        "t = np.arange(0,1,K) # vetor de tempo"
      ],
      "execution_count": 1,
      "outputs": []
    },
    {
      "cell_type": "code",
      "metadata": {
        "id": "R2ZJzxOX2CRQ"
      },
      "source": [
        "#Valores dos componentes do circuito\n",
        "\n",
        "L = 1 #H\n",
        "C = 0.000001 #F\n",
        "R = 1000 #Ohms"
      ],
      "execution_count": 2,
      "outputs": []
    },
    {
      "cell_type": "code",
      "metadata": {
        "id": "3WKOclbe2G0Y"
      },
      "source": [
        "#Sinais de entrada\n",
        "\n",
        "f = 100;   # frequencia do sinal\n",
        "x1 = np.sin(2*np.pi*f*t + 0)\n",
        "f = 500;\n",
        "x2 = np.sin(2*np.pi*f*t + 0)\n",
        "f = 1000;   # frequencia do sinal\n",
        "x3 = np.sin(2*np.pi*f*t + 0)\n",
        "f = 2000;\n",
        "x4 = np.sin(2*np.pi*f*t + 0)\n",
        "x = x1 + x2 + x3 + x4"
      ],
      "execution_count": 3,
      "outputs": []
    },
    {
      "cell_type": "code",
      "metadata": {
        "id": "0VcSkPD4krL7"
      },
      "source": [
        "a0 = 1\n",
        "a1 = (2*(K*K) - 8*L*C) /(K*K + 4*L*C + 2*C*K*R)\n",
        "a2 = (K*K - 2*C*K*R + 4*L*C) / (K*K + 4*L*C + 2*C*K*R)\n",
        "\n",
        "b0 = K*K / (K*K + 4*L*C + 2*C*K*R)\n",
        "b1 = 2*(K*K) / (K*K + 4*L*C + 2*C*K*R)\n",
        "b2 = K*K / (K*K + 4*L*C + 2*C*K*R)"
      ],
      "execution_count": 4,
      "outputs": []
    },
    {
      "cell_type": "code",
      "metadata": {
        "id": "QbJknLyX2J0I"
      },
      "source": [
        "#Variaveis de estado\n",
        "xh1=0;\n",
        "xh2=0;\n",
        "\n",
        "yh1=0;\n",
        "yh2=0;\n",
        "\n",
        "y = np.zeros(len(x));"
      ],
      "execution_count": 5,
      "outputs": []
    },
    {
      "cell_type": "code",
      "metadata": {
        "id": "gQAEXo3J2NE4"
      },
      "source": [
        "#Variaveis de estado\n",
        "\n",
        "xh1=0;\n",
        "xh2=0;\n",
        "\n",
        "yh1=0;\n",
        "yh2=0;\n",
        "\n",
        "y = np.zeros(len(x));"
      ],
      "execution_count": 6,
      "outputs": []
    },
    {
      "cell_type": "code",
      "metadata": {
        "id": "toF4wk9e2PlJ"
      },
      "source": [
        "for n in range(0,len(x)):\n",
        "    y[n]= b0*x[n] + b1*xh1 + b2*xh2 -a1*yh1 -a2*yh2;\n",
        "    \n",
        "    yh2=yh1;\n",
        "    yh1=y[n];\n",
        "    \n",
        "    xh2=xh1;\n",
        "    xh1=x[n];"
      ],
      "execution_count": 7,
      "outputs": []
    },
    {
      "cell_type": "code",
      "metadata": {
        "id": "3e9Fse4j2U4_"
      },
      "source": [
        "n = len(y) # tamanho do sinal\n",
        "k = np.arange(n) #vetor em k\n",
        "T = n/Fs\n",
        "frq = k/T # os dois lados do vetor de frequenCia\n",
        "frq = frq[range(int(n/2))] # apenas um lado"
      ],
      "execution_count": 8,
      "outputs": []
    },
    {
      "cell_type": "code",
      "metadata": {
        "id": "swppzx0DnfoU"
      },
      "source": [
        "Y = np.fft.fft(y)/n # Calculo da fft e normalização por n\n",
        "Y = Y[range(int(n/2))]"
      ],
      "execution_count": 9,
      "outputs": []
    },
    {
      "cell_type": "code",
      "metadata": {
        "id": "mxOO63uK2XCQ"
      },
      "source": [
        "X = np.fft.fft(x)/n # CalCulo da fft e normalização por n\n",
        "X = X[range(int(n/2))]"
      ],
      "execution_count": 10,
      "outputs": []
    },
    {
      "cell_type": "code",
      "metadata": {
        "colab": {
          "base_uri": "https://localhost:8080/",
          "height": 160
        },
        "id": "lg7z_yBm2Yk4",
        "outputId": "bf2c0752-b62f-48ab-b395-d00eb5e99943"
      },
      "source": [
        "plt.subplot(3,1,1)\n",
        "plt.plot(t,x)\n",
        "plt.title('Sinal')\n",
        "plt.xlabel('Tempo')\n",
        "plt.ylabel('Amplitude')"
      ],
      "execution_count": 24,
      "outputs": [
        {
          "output_type": "execute_result",
          "data": {
            "text/plain": [
              "Text(0, 0.5, 'Amplitude')"
            ]
          },
          "metadata": {
            "tags": []
          },
          "execution_count": 24
        },
        {
          "output_type": "display_data",
          "data": {
            "image/png": "[encoded data removed]",
            "text/plain": [
              "<Figure size 432x288 with 1 Axes>"
            ]
          },
          "metadata": {
            "tags": [],
            "needs_background": "light"
          }
        }
      ]
    },
    {
      "cell_type": "code",
      "metadata": {
        "colab": {
          "base_uri": "https://localhost:8080/",
          "height": 160
        },
        "id": "fiQ6b9_i2aw4",
        "outputId": "294cee73-c66a-4584-c277-307244d0ea84"
      },
      "source": [
        "plt.subplot(3,1,2)\n",
        "plt.plot(t,y,'g')\n",
        "plt.title('Sinal filtrado')\n",
        "plt.xlabel('Tempo')\n",
        "plt.ylabel('Amplitude')"
      ],
      "execution_count": 22,
      "outputs": [
        {
          "output_type": "execute_result",
          "data": {
            "text/plain": [
              "Text(0, 0.5, 'Amplitude')"
            ]
          },
          "metadata": {
            "tags": []
          },
          "execution_count": 22
        },
        {
          "output_type": "display_data",
          "data": {
            "image/png": "[encoded data removed]",
            "text/plain": [
              "<Figure size 432x288 with 1 Axes>"
            ]
          },
          "metadata": {
            "tags": [],
            "needs_background": "light"
          }
        }
      ]
    },
    {
      "cell_type": "code",
      "metadata": {
        "colab": {
          "base_uri": "https://localhost:8080/",
          "height": 195
        },
        "id": "BwXeJCtP2cwQ",
        "outputId": "5d32d90f-9f99-4f22-ee27-927470956c02"
      },
      "source": [
        "plt.subplot(2,2,3)\n",
        "plt.plot(frq,abs(X),'r')\n",
        "plt.title('Fourier - Sweep')\n",
        "plt.xlabel('Freq (Hz)')\n",
        "plt.ylabel('|X(freq)|')"
      ],
      "execution_count": 20,
      "outputs": [
        {
          "output_type": "execute_result",
          "data": {
            "text/plain": [
              "Text(0, 0.5, '|X(freq)|')"
            ]
          },
          "metadata": {
            "tags": []
          },
          "execution_count": 20
        },
        {
          "output_type": "display_data",
          "data": {
            "image/png": "[encoded data removed]",
            "text/plain": [
              "<Figure size 432x288 with 1 Axes>"
            ]
          },
          "metadata": {
            "tags": [],
            "needs_background": "light"
          }
        }
      ]
    },
    {
      "cell_type": "code",
      "metadata": {
        "colab": {
          "base_uri": "https://localhost:8080/",
          "height": 177
        },
        "id": "Odr7t9MX2eTA",
        "outputId": "0e9b73f2-51b4-4ec3-835b-2b0147200256"
      },
      "source": [
        "plt.subplot(2,2,4)\n",
        "plt.plot(frq,abs(Y),'c')\n",
        "plt.grid(True, which=\"both\")\n",
        "plt.title('Fourier - Filtro')\n",
        "plt.xlabel('Freq (Hz)')\n",
        "plt.ylabel('|X(freq)|')\n",
        "plt.show()"
      ],
      "execution_count": 19,
      "outputs": [
        {
          "output_type": "display_data",
          "data": {
            "image/png": "[encoded data removed]",
            "text/plain": [
              "<Figure size 432x288 with 1 Axes>"
            ]
          },
          "metadata": {
            "tags": [],
            "needs_background": "light"
          }
        }
      ]
    }
  ]
}